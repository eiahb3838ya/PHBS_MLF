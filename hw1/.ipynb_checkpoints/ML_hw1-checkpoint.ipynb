{
 "cells": [
  {
   "cell_type": "code",
   "execution_count": 1,
   "metadata": {},
   "outputs": [],
   "source": [
    "from scipy.io import arff\n",
    "import pandas as pd"
   ]
  },
  {
   "cell_type": "markdown",
   "metadata": {},
   "source": [
    "# load data"
   ]
  },
  {
   "cell_type": "code",
   "execution_count": 22,
   "metadata": {},
   "outputs": [
    {
     "data": {
      "text/plain": [
       "X1            0.043019\n",
       "X2            0.596404\n",
       "X7            0.059446\n",
       "X10           0.389040\n",
       "bankruptcy    0.052594\n",
       "class              inf\n",
       "dtype: float64"
      ]
     },
     "execution_count": 22,
     "metadata": {},
     "output_type": "execute_result"
    }
   ],
   "source": [
    "data = arff.loadarff('4year.arff')\n",
    "df = pd.DataFrame(data[0])\n",
    "df['bankruptcy'] = (df['class']==b'1')\n",
    "targetDf.mean(axis = 0)"
   ]
  },
  {
   "cell_type": "markdown",
   "metadata": {},
   "source": [
    "# select column and fill nan"
   ]
  },
  {
   "cell_type": "code",
   "execution_count": 53,
   "metadata": {},
   "outputs": [
    {
     "data": {
      "text/html": [
       "<div>\n",
       "<style scoped>\n",
       "    .dataframe tbody tr th:only-of-type {\n",
       "        vertical-align: middle;\n",
       "    }\n",
       "\n",
       "    .dataframe tbody tr th {\n",
       "        vertical-align: top;\n",
       "    }\n",
       "\n",
       "    .dataframe thead th {\n",
       "        text-align: right;\n",
       "    }\n",
       "</style>\n",
       "<table border=\"1\" class=\"dataframe\">\n",
       "  <thead>\n",
       "    <tr style=\"text-align: right;\">\n",
       "      <th></th>\n",
       "      <th>X1</th>\n",
       "      <th>X2</th>\n",
       "      <th>X7</th>\n",
       "      <th>X10</th>\n",
       "      <th>bankruptcy</th>\n",
       "      <th>class</th>\n",
       "    </tr>\n",
       "  </thead>\n",
       "  <tbody>\n",
       "    <tr>\n",
       "      <th>0</th>\n",
       "      <td>0.159290</td>\n",
       "      <td>0.46240</td>\n",
       "      <td>0.189480</td>\n",
       "      <td>0.38330</td>\n",
       "      <td>False</td>\n",
       "      <td>b'0'</td>\n",
       "    </tr>\n",
       "    <tr>\n",
       "      <th>1</th>\n",
       "      <td>-0.127430</td>\n",
       "      <td>0.46243</td>\n",
       "      <td>-0.127430</td>\n",
       "      <td>0.53757</td>\n",
       "      <td>False</td>\n",
       "      <td>b'0'</td>\n",
       "    </tr>\n",
       "    <tr>\n",
       "      <th>2</th>\n",
       "      <td>0.070488</td>\n",
       "      <td>0.23570</td>\n",
       "      <td>0.086895</td>\n",
       "      <td>0.67689</td>\n",
       "      <td>False</td>\n",
       "      <td>b'0'</td>\n",
       "    </tr>\n",
       "    <tr>\n",
       "      <th>3</th>\n",
       "      <td>0.136760</td>\n",
       "      <td>0.40538</td>\n",
       "      <td>0.136760</td>\n",
       "      <td>0.58938</td>\n",
       "      <td>False</td>\n",
       "      <td>b'0'</td>\n",
       "    </tr>\n",
       "    <tr>\n",
       "      <th>4</th>\n",
       "      <td>-0.110080</td>\n",
       "      <td>0.69793</td>\n",
       "      <td>-0.110080</td>\n",
       "      <td>0.30207</td>\n",
       "      <td>False</td>\n",
       "      <td>b'0'</td>\n",
       "    </tr>\n",
       "  </tbody>\n",
       "</table>\n",
       "</div>"
      ],
      "text/plain": [
       "         X1       X2        X7      X10  bankruptcy class\n",
       "0  0.159290  0.46240  0.189480  0.38330       False  b'0'\n",
       "1 -0.127430  0.46243 -0.127430  0.53757       False  b'0'\n",
       "2  0.070488  0.23570  0.086895  0.67689       False  b'0'\n",
       "3  0.136760  0.40538  0.136760  0.58938       False  b'0'\n",
       "4 -0.110080  0.69793 -0.110080  0.30207       False  b'0'"
      ]
     },
     "execution_count": 53,
     "metadata": {},
     "output_type": "execute_result"
    }
   ],
   "source": [
    "targetDf = df.iloc[:, [0, 1, 6, 9, -1, -2]]\n",
    "targetDf.columns = ['X1', 'X2', 'X7', 'X10', 'bankruptcy', 'class']\n",
    "targetDf = targetDf.fillna(value =targetDf.mean(axis = 0))\n",
    "targetDf.head()"
   ]
  },
  {
   "cell_type": "markdown",
   "metadata": {},
   "source": [
    "# get mean std each group"
   ]
  },
  {
   "cell_type": "code",
   "execution_count": 54,
   "metadata": {},
   "outputs": [
    {
     "data": {
      "text/html": [
       "<div>\n",
       "<style scoped>\n",
       "    .dataframe tbody tr th:only-of-type {\n",
       "        vertical-align: middle;\n",
       "    }\n",
       "\n",
       "    .dataframe tbody tr th {\n",
       "        vertical-align: top;\n",
       "    }\n",
       "\n",
       "    .dataframe thead th {\n",
       "        text-align: right;\n",
       "    }\n",
       "</style>\n",
       "<table border=\"1\" class=\"dataframe\">\n",
       "  <thead>\n",
       "    <tr style=\"text-align: right;\">\n",
       "      <th></th>\n",
       "      <th>X1</th>\n",
       "      <th>X2</th>\n",
       "      <th>X7</th>\n",
       "      <th>X10</th>\n",
       "    </tr>\n",
       "  </thead>\n",
       "  <tbody>\n",
       "    <tr>\n",
       "      <th>count</th>\n",
       "      <td>9277.000000</td>\n",
       "      <td>9277.000000</td>\n",
       "      <td>9277.000000</td>\n",
       "      <td>9277.000000</td>\n",
       "    </tr>\n",
       "    <tr>\n",
       "      <th>mean</th>\n",
       "      <td>0.049231</td>\n",
       "      <td>0.580752</td>\n",
       "      <td>0.066162</td>\n",
       "      <td>0.404899</td>\n",
       "    </tr>\n",
       "    <tr>\n",
       "      <th>std</th>\n",
       "      <td>0.343002</td>\n",
       "      <td>4.689694</td>\n",
       "      <td>0.530524</td>\n",
       "      <td>4.692934</td>\n",
       "    </tr>\n",
       "    <tr>\n",
       "      <th>min</th>\n",
       "      <td>-12.458000</td>\n",
       "      <td>0.000000</td>\n",
       "      <td>-12.458000</td>\n",
       "      <td>-445.910000</td>\n",
       "    </tr>\n",
       "    <tr>\n",
       "      <th>25%</th>\n",
       "      <td>0.003128</td>\n",
       "      <td>0.257220</td>\n",
       "      <td>0.004711</td>\n",
       "      <td>0.306400</td>\n",
       "    </tr>\n",
       "    <tr>\n",
       "      <th>50%</th>\n",
       "      <td>0.043545</td>\n",
       "      <td>0.457500</td>\n",
       "      <td>0.051804</td>\n",
       "      <td>0.519670</td>\n",
       "    </tr>\n",
       "    <tr>\n",
       "      <th>75%</th>\n",
       "      <td>0.113140</td>\n",
       "      <td>0.674850</td>\n",
       "      <td>0.129390</td>\n",
       "      <td>0.721390</td>\n",
       "    </tr>\n",
       "    <tr>\n",
       "      <th>max</th>\n",
       "      <td>20.482000</td>\n",
       "      <td>446.910000</td>\n",
       "      <td>38.618000</td>\n",
       "      <td>12.602000</td>\n",
       "    </tr>\n",
       "  </tbody>\n",
       "</table>\n",
       "</div>"
      ],
      "text/plain": [
       "                X1           X2           X7          X10\n",
       "count  9277.000000  9277.000000  9277.000000  9277.000000\n",
       "mean      0.049231     0.580752     0.066162     0.404899\n",
       "std       0.343002     4.689694     0.530524     4.692934\n",
       "min     -12.458000     0.000000   -12.458000  -445.910000\n",
       "25%       0.003128     0.257220     0.004711     0.306400\n",
       "50%       0.043545     0.457500     0.051804     0.519670\n",
       "75%       0.113140     0.674850     0.129390     0.721390\n",
       "max      20.482000   446.910000    38.618000    12.602000"
      ]
     },
     "execution_count": 54,
     "metadata": {},
     "output_type": "execute_result"
    }
   ],
   "source": [
    "allDf = targetDf\n",
    "bankruptDf = targetDf[targetDf.bankruptcy]\n",
    "stillOperatingCompanies = targetDf[~targetDf.bankruptcy]\n",
    "toDisplay = [allDf, bankruptDf, stillOperatingCompanies]\n",
    "for aDf in toDisplay:\n",
    "    print( aDf.describe().loc[['mean', 'std']])\n"
   ]
  },
  {
   "cell_type": "markdown",
   "metadata": {},
   "source": [
    "# get bankrupt ratio of cretain condition"
   ]
  },
  {
   "cell_type": "code",
   "execution_count": 49,
   "metadata": {},
   "outputs": [
    {
     "data": {
      "text/plain": [
       "15"
      ]
     },
     "execution_count": 49,
     "metadata": {},
     "output_type": "execute_result"
    }
   ],
   "source": [
    "threashodSeries = targetDf.mean(axis = 0)-targetDf.std(axis = 0)\n",
    "lowValueCompanyDf = targetDf.loc[(targetDf.X1<threashodSeries.X1) & (targetDf.X10<threashodSeries.X10)]\n",
    "len(lowValueCompanyDf)"
   ]
  },
  {
   "cell_type": "code",
   "execution_count": 51,
   "metadata": {},
   "outputs": [
    {
     "data": {
      "text/plain": [
       "0.2"
      ]
     },
     "execution_count": 51,
     "metadata": {},
     "output_type": "execute_result"
    }
   ],
   "source": [
    "sum(lowValueCompanyDf.bankruptcy)/len(lowValueCompanyDf)"
   ]
  }
 ],
 "metadata": {
  "kernelspec": {
   "display_name": "Python 3",
   "language": "python",
   "name": "python3"
  },
  "language_info": {
   "codemirror_mode": {
    "name": "ipython",
    "version": 3
   },
   "file_extension": ".py",
   "mimetype": "text/x-python",
   "name": "python",
   "nbconvert_exporter": "python",
   "pygments_lexer": "ipython3",
   "version": "3.6.8"
  }
 },
 "nbformat": 4,
 "nbformat_minor": 2
}
